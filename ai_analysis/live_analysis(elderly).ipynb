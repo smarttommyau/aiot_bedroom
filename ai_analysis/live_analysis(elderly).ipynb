{
 "cells": [
  {
   "attachments": {},
   "cell_type": "markdown",
   "metadata": {},
   "source": [
    "# Import Libray"
   ]
  },
  {
   "cell_type": "code",
   "execution_count": 1,
   "metadata": {},
   "outputs": [],
   "source": [
    "from live_connection import Live_connection \n",
    "from IoT.IoT import Fan_Control,Light_Control,Buzzer_Control\n",
    "from audioplayer import AudioPlayer\n",
    "import threading\n",
    "import torch\n",
    "from PIL import Image\n",
    "from io import BytesIO, StringIO\n",
    "import math\n",
    "import time\n",
    "import numpy as np\n",
    "from IPython.display import display,update_display,Audio , Image as ipyImage\n",
    "import ipywidgets as widgets\n",
    "from loguru import logger\n",
    "from collections import deque\n",
    "%matplotlib inline\n",
    "from matplotlib import pyplot as plt"
   ]
  },
  {
   "attachments": {},
   "cell_type": "markdown",
   "metadata": {},
   "source": [
    "# Setup stuffs"
   ]
  },
  {
   "attachments": {},
   "cell_type": "markdown",
   "metadata": {},
   "source": [
    "## Setup logger\n",
    "\n",
    "> output from live_connection.py are not iterpreted by the logger"
   ]
  },
  {
   "cell_type": "code",
   "execution_count": 2,
   "metadata": {},
   "outputs": [],
   "source": [
    "LogStream = StringIO()\n",
    "logger.add(\"logs/file_{time}.log\", format=\"{time:YYYY-MM-DD at HH:mm:ss} | {level} | {message}\", rotation=\"50MB\")\n",
    "logger.add(LogStream)\n",
    "logdeque = deque(maxlen=10)\n",
    "posLogStream = 0"
   ]
  },
  {
   "attachments": {},
   "cell_type": "markdown",
   "metadata": {},
   "source": [
    "## Load and setup model\n",
    "![img/yolo_model_graph.png](img/yolo_model_graph.png)"
   ]
  },
  {
   "cell_type": "code",
   "execution_count": 3,
   "metadata": {},
   "outputs": [
    {
     "name": "stderr",
     "output_type": "stream",
     "text": [
      "Using cache found in C:\\Users\\Tommy AU/.cache\\torch\\hub\\ultralytics_yolov5_master\n",
      "YOLOv5  2023-2-1 Python-3.10.9 torch-1.12.1 CPU\n",
      "\n",
      "Fusing layers... \n",
      "YOLOv5x6 summary: 574 layers, 140730220 parameters, 0 gradients\n",
      "Adding AutoShape... \n"
     ]
    }
   ],
   "source": [
    "# you can change to other yolo model(they are not tested,but less cpu usage)\n",
    "# you may take reference to the graph\n",
    "model = torch.hub.load('ultralytics/yolov5', 'yolov5x6', pretrained=True) # default yolov5x6\n",
    "model.classes = [0,59,63,67]# person, bed, laptop(as some phone can be detact by laptop), cell phone \n",
    "torch.set_num_interop_threads(8)# improve performance, you may change according to your cpu\n",
    "torch.set_num_threads(8)\n",
    "#model.cpu() , if you want to use cpu;model.cuda() if you want to use gpu"
   ]
  },
  {
   "attachments": {},
   "cell_type": "markdown",
   "metadata": {},
   "source": [
    "## 🚩 Here is the place to start the program\n",
    "## Start and Setup socket(Connect camera) and Other IoT devices\n",
    "## And Call main()\n",
    "<br>\n",
    "\n",
    "> #### ⚠  There maybe exeption message pop up when you restart the socket, ignore it will do the job<br>But if it this error from system os it is recommend to use another port\n",
    "\n",
    "\n",
    "> #### ⚠  There maybe error message pop up when you restart the socket, ignore it will do the job<br>\n",
    "> Examples error<br>\n",
    "    frameid = splited[1]<br>\n",
    "IndexError: list index out of range<br>\n",
    "\n",
    "> #### \"WARNING NMS time limit 0.550s exceeded\" can be ignore\n",
    "\n",
    "> #### 🎥 The image will have a high latency then the actuall latency,<br>   As the render of image use >10 sec.<br>Stuff is still working on normal latency, only the image preview is slow.\n",
    "\n",
    "> #### ⚠  If none of the above work try to restart kernel or even restart pc"
   ]
  },
  {
   "cell_type": "code",
   "execution_count": null,
   "metadata": {},
   "outputs": [],
   "source": [
    "#URl of cohntroller\n",
    "addr = \"http://192.168.43.151:7777/controller\"\n",
    "x = input(\"Address to bind(enter for default):\")\n",
    "if x != \"\":\n",
    "    addr = x\n",
    "# Connect IoT devices\n",
    "fan = Fan_Control(addr)\n",
    "light = Light_Control(addr)\n",
    "buzzer = Buzzer_Control(addr)\n",
    "aircon = fan.get_fan_state() # use fan for aircon temporarily\n",
    "lights = light.get_light_state()\n",
    "addr = \"192.168.43.224\"## use ipconfig to find the ip address of the computer\n",
    "x = input(\"Address to bind(enter for default):\")\n",
    "if x != \"\":\n",
    "    addr = x\n",
    "try:\n",
    "    if live_connection != None and not live_connection.died:\n",
    "        live_connection.terminate()\n",
    "except NameError:\n",
    "    pass\n",
    "live_connection = None\n",
    "live_connection = Live_connection(addr,7777)    # 7777 is the default port, use other port if the port is blocked\n",
    "\n",
    "t1 = threading.Thread(target=live_connection.start_connection,kwargs={\"nolog\":True},group=None)\n",
    "# nolog = True\n",
    "t1.start()\n",
    "term = True\n",
    "button_download = widgets.Button(description = 'Stop')   \n",
    "button_download.on_click(onclick)\n",
    "display(button_download)\n",
    "main_analysis()"
   ]
  },
  {
   "attachments": {},
   "cell_type": "markdown",
   "metadata": {},
   "source": [
    "### Force Stop\n",
    "> Press start and stop the below cell multiple times to kill the program"
   ]
  },
  {
   "cell_type": "code",
   "execution_count": 4,
   "metadata": {},
   "outputs": [],
   "source": [
    "def onclick(arg):\n",
    "    term = False\n",
    "    live_connection.terminate()\n",
    "    t1.terminate()\n",
    "    live_connection = None"
   ]
  },
  {
   "attachments": {},
   "cell_type": "markdown",
   "metadata": {},
   "source": [
    "### Close socket if needed\n",
    "> or reset some var"
   ]
  },
  {
   "cell_type": "code",
   "execution_count": 5,
   "metadata": {},
   "outputs": [],
   "source": [
    "# live_connection.ss.close()\n",
    "# live_connection = None"
   ]
  },
  {
   "attachments": {},
   "cell_type": "markdown",
   "metadata": {},
   "source": [
    "## Variable of current state"
   ]
  },
  {
   "cell_type": "code",
   "execution_count": 6,
   "metadata": {},
   "outputs": [],
   "source": [
    "#global tolerance\n",
    "tolerance = 10\n",
    "## Person exist\n",
    "personexist = False\n",
    "## lying bed\n",
    "lyingonbed = False\n",
    "startlyingtime = 0\n",
    "notlyingtimestart = 0\n",
    "chancelying = 3\n",
    "## touching phone\n",
    "Touchingphone = False\n",
    "starttouchingtime = 0\n",
    "nottouchingtimestart = 0\n",
    "chanceTouching = 3\n",
    "## sleeping\n",
    "sleeping = False\n",
    "startsleepingtime = 0\n",
    "notsleepingtimestart = 0\n",
    "## not moving\n",
    "notmoving = False\n",
    "lastposition = [0,0,0,0]\n",
    "toleranceOfNotMoving = 10\n",
    "startnotmovingtime = 0\n",
    "movingtimestart = 0\n",
    "chancenotmoving = 2\n",
    "## temperatures\n",
    "tempPerson = []\n",
    "### core temp requires face recongnition\n",
    "tempBed = -1"
   ]
  },
  {
   "attachments": {},
   "cell_type": "markdown",
   "metadata": {},
   "source": [
    "# Condition for automation"
   ]
  },
  {
   "attachments": {},
   "cell_type": "markdown",
   "metadata": {},
   "source": [
    "## Person detection"
   ]
  },
  {
   "cell_type": "markdown",
   "metadata": {},
   "source": []
  },
  {
   "cell_type": "code",
   "execution_count": 7,
   "metadata": {},
   "outputs": [],
   "source": [
    "def isPersonAvailable(pandas)-> bool:\n",
    "    return 0 in pandas['class'].array"
   ]
  },
  {
   "attachments": {},
   "cell_type": "markdown",
   "metadata": {},
   "source": [
    "## Bed lying detection"
   ]
  },
  {
   "cell_type": "code",
   "execution_count": 8,
   "metadata": {},
   "outputs": [],
   "source": [
    "def isLyinOnBed(pandas,k:int)->bool:\n",
    "    #pandasDataFrame is the output of model(pandas.DataFrame)\n",
    "    #return true if the person is lying on the bed\n",
    "    #return false if the person is not lying on the bed\n",
    "\n",
    "    # Check if the person is on bed     \n",
    "    if not(0 in pandas['class'].array):\n",
    "        return False\n",
    "    # Calculate the length ratio of person on the bed\n",
    "    personxlen = pandas[pandas['class'] == 0]['xmax'].array[k] - pandas[pandas['class'] == 0]['xmin'].array[k]\n",
    "    personylen = pandas[pandas['class'] == 0]['ymax'].array[k] - pandas[pandas['class'] == 0]['ymin'].array[k]\n",
    "    if not(59 in pandas['class'].array):\n",
    "        if personylen>personxlen:\n",
    "            if(personylen/personxlen>3 and personylen/personxlen<5):# acoording to web data, the ratio of length to  shoulder is 4:1\n",
    "                return True\n",
    "            else:\n",
    "                return False\n",
    "    bedxlen = pandas[pandas['class'] == 59]['xmax'].array[0] - pandas[pandas['class'] == 59]['xmin'].array[0]\n",
    "    bedylen = pandas[pandas['class'] == 59]['ymax'].array[0] - pandas[pandas['class'] == 59]['ymin'].array[0]\n",
    "\n",
    "    if bedxlen > bedylen :\n",
    "            return personxlen/bedxlen > 0.6\n",
    "    else:\n",
    "            return personylen/bedylen > 0.6\n"
   ]
  },
  {
   "attachments": {},
   "cell_type": "markdown",
   "metadata": {},
   "source": [
    "## Touching phone detection"
   ]
  },
  {
   "cell_type": "code",
   "execution_count": 9,
   "metadata": {},
   "outputs": [],
   "source": [
    "def isTouchingPhone(pandas,person)->bool:\n",
    "    #pandasDataFrame is the output of model(pandas.DataFrame)\n",
    "    #return true if the person is touching the phone\n",
    "    #return false if the person is not touching the phone\n",
    "    #return None if the person is not in the frame\n",
    "    # Check if the person is on bed\n",
    "    phone = []\n",
    "    if 63 in pandas['class'].array:\n",
    "        phone.append(pandas[pandas['class'] == 63])\n",
    "    if 67 in pandas['class'].array:\n",
    "        phone.append(pandas[pandas['class'] == 67])\n",
    "    if len(phone) == 0:\n",
    "        return False\n",
    "    # see if the person touches the phone\n",
    "    overlapArea = 0\n",
    "    people = pandas[pandas['class'] == 0]\n",
    "    for x in person:\n",
    "        for y in phone:\n",
    "            for z in range(len(y)):\n",
    "                x_overlap = max(0, min(y['xmax'].array[z], people['xmax'].array[x]) - max(y['xmin'].array[z], people['xmin'].array[x]));\n",
    "                y_overlap = max(0, min(y['ymax'].array[z], people['ymax'].array[x]) - max(y['ymin'].array[z], people['ymin'].array[x]));\n",
    "                overlapArea = max(overlapArea,x_overlap * y_overlap);\n",
    "                areaphone = (y['xmax'].array[z] - y['xmin'].array[z])*(y['ymax'].array[z] - y['ymin'].array[z])\n",
    "                time.sleep(1)\n",
    "                if overlapArea/areaphone > 0.3:\n",
    "                    return True\n",
    "    return False"
   ]
  },
  {
   "attachments": {},
   "cell_type": "markdown",
   "metadata": {},
   "source": [
    "## Human movement detection"
   ]
  },
  {
   "cell_type": "code",
   "execution_count": 10,
   "metadata": {},
   "outputs": [],
   "source": [
    "def isnotmoving(pandas)->bool:\n",
    "    #pandasDataFrame is the output of model(pandas.DataFrame)\n",
    "    #return true if the person is not moving\n",
    "    #return false if the person is moving\n",
    "    #return None if the person is not in the frame\n",
    "    # Check if the person is on bed\n",
    "    person = pandas[pandas['class'] == 0]\n",
    "    if len(person) == 0:\n",
    "        return None\n",
    "    else:\n",
    "        x = person['xmin'].array[0]\n",
    "        y = person['ymin'].array[0]\n",
    "        x2 = person['xmax'].array[0]\n",
    "        y2 = person['ymax'].array[0]\n",
    "        if abs(x - lastposition[0]) < toleranceOfNotMoving and abs(y - lastposition[1]) < toleranceOfNotMoving and abs(x2 - lastposition[2]) < toleranceOfNotMoving and abs(y2 - lastposition[3]) < toleranceOfNotMoving:\n",
    "            return True\n",
    "        else:\n",
    "            lastposition[0] = x\n",
    "            lastposition[1] = y\n",
    "            lastposition[2] = x2\n",
    "            lastposition[3] = y2\n",
    "            return False"
   ]
  },
  {
   "attachments": {},
   "cell_type": "markdown",
   "metadata": {},
   "source": [
    "## Bed Temperature"
   ]
  },
  {
   "cell_type": "code",
   "execution_count": 11,
   "metadata": {},
   "outputs": [],
   "source": [
    "def insideBed(x,y,bedlist):\n",
    "    return x >= bedlist[0] and x <= bedlist[2] and y >= bedlist[1] and y <= bedlist[3]\n",
    "def insideOtherObject(x,y,lst):\n",
    "    for i in range(len(lst)):\n",
    "        if x >= lst['xmin'].array[i] and x <= lst['xmax'].array[i] and y >= lst['ymin'].array[i] and y <= lst['ymax'].array[i]:\n",
    "            return True\n",
    "    return False\n",
    "def bedtemperature(pandas,thermal,size):\n",
    "    ## calculate the temperature of the bed by calculate the average temperature of the bed exclude the person\n",
    "    ## return the temperature of the bed\n",
    "    if(59 not in pandas['class'].array):\n",
    "        return None\n",
    "    temp = 0\n",
    "    count = 0\n",
    "    sy = len(thermal)\n",
    "    sx = len(thermal[0])\n",
    "    #caches\n",
    "    bedlist = np.array([pandas[pandas['class'] == 59]['xmin'].array[0],pandas[pandas['class'] == 59]['ymin'].array[0],pandas[pandas['class'] == 59]['xmax'].array[0],pandas[pandas['class'] == 59]['ymax'].array[0]])\n",
    "    otherobjects = pandas[pandas['class']!=59]\n",
    "    for y,t in enumerate(thermal):\n",
    "        for x,val in enumerate(t):\n",
    "            # exclude persons and the extra objects\n",
    "            # only count the temperature of the bed\n",
    "            ix = x/sx*size[0]\n",
    "            iy = y/sy*size[1]\n",
    "            if insideBed(ix,iy,bedlist) and not insideOtherObject(ix,iy,otherobjects):\n",
    "                val = val/100 - 273\n",
    "                count+=1\n",
    "                temp = temp + (val - temp)/count\n",
    "    return temp "
   ]
  },
  {
   "attachments": {},
   "cell_type": "markdown",
   "metadata": {},
   "source": [
    "## Body Temperature"
   ]
  },
  {
   "cell_type": "code",
   "execution_count": 12,
   "metadata": {},
   "outputs": [],
   "source": [
    "def bodytemperture(pandas,thermal,size,k:int):\n",
    "    ## calculate the temperature of the person by calculate the average temperature of the person\n",
    "    ## return the temperature of the person\n",
    "    ## reduce the insignificant temperature(extermely low or high,ie >40, <30)\n",
    "    temp = 0\n",
    "    count = 0\n",
    "    sx = len(thermal[0])\n",
    "    sy = len(thermal)\n",
    "    xmax = pandas[pandas['class'] == 0]['xmax'].array[k]\n",
    "    xmin = pandas[pandas['class'] == 0]['xmin'].array[k]\n",
    "    ymax = pandas[pandas['class'] == 0]['ymax'].array[k]\n",
    "    ymin = pandas[pandas['class'] == 0]['ymin'].array[k]\n",
    "    for y,t in enumerate(thermal):\n",
    "        for x,val in enumerate(t):\n",
    "            ix = x/sx*size[0]\n",
    "            iy = y/sy*size[1]\n",
    "            val = val/100 - 273\n",
    "            ## check if the point is in the person\n",
    "            if ( xmax <= ix and ix >= xmin ) \\\n",
    "            and                                                                                                                     \\\n",
    "               ( ymax <= iy and iy >= ymin ) \\\n",
    "            and val < 40 and val > 30:\n",
    "                 count+=1\n",
    "                 temp = temp + (val - temp)/count\n",
    "    return temp"
   ]
  },
  {
   "attachments": {},
   "cell_type": "markdown",
   "metadata": {},
   "source": [
    "## Detection Main"
   ]
  },
  {
   "cell_type": "code",
   "execution_count": 13,
   "metadata": {},
   "outputs": [],
   "source": [
    "## touching phone\n",
    "def detecttouch(pandas,person,timenow):\n",
    "    global nottouchingtimestart,starttouchingtime,Touchingphone,chanceTouching\n",
    "    if isTouchingPhone(pandas,person):\n",
    "        chanceTouching = 0\n",
    "        if not Touchingphone:\n",
    "            Touchingphone = True\n",
    "            starttouchingtime = timenow\n",
    "            nottouchingtimestart = 0\n",
    "            logger.info(\"Touching phone\")\n",
    "            # print(\"Touching phone\")\n",
    "    else:\n",
    "        if Touchingphone:\n",
    "            chanceTouching += 1\n",
    "            if chanceTouching > 3:\n",
    "                nottouchingtimestart = timenow\n",
    "                Touchingphone = False\n",
    "                logger.info(\"Touching phone for {time} seconds\".format(time=timenow-starttouchingtime))\n",
    "                # print(\"Touching phone for\",timenow-starttouchingtime,\"seconds\")\n",
    "                starttouchingtime = 0\n",
    "\n",
    "## is not moving\n",
    "def detectmoving(pandas,timenow):\n",
    "    global notmoving,startnotmovingtime,movingtimestart,chancenotmoving\n",
    "    if isnotmoving(pandas):\n",
    "        chancenotmoving = 0\n",
    "        if not notmoving:\n",
    "            notmoving = True\n",
    "            startnotmovingtime = timenow\n",
    "            movingtimestart = 0\n",
    "            logger.info(\"Not moving\")\n",
    "            # print(\"Not moving\")\n",
    "    else:\n",
    "        if notmoving:\n",
    "            chancenotmoving += 1\n",
    "            if chancenotmoving > 2:\n",
    "                movingtimestart = timenow\n",
    "                notmoving = False\n",
    "                logger.info(\"Not moving for {time} seconds\".format(time=timenow-startnotmovingtime))\n",
    "                # print(\"Not moving for\",timenow-startnotmovingtime,\"seconds\")\n",
    "                startnotmovingtime = 0\n",
    "    ### sleeping or in sleep mood\n",
    "# if lyingfor bed for 10 seconds and not touching phone for 10 seconds, then sleep \n",
    "def detectsleep(timenow):  \n",
    "    global sleeping,startsleepingtime,notsleepingtimestart \n",
    "    if lyingonbed and not Touchingphone:\n",
    "        if not sleeping:\n",
    "            startsleepingtime = timenow\n",
    "            sleeping = True\n",
    "            notsleepingtimestart = 0\n",
    "            logger.info(\"Sleeping\")\n",
    "            # print(\"Sleeping\")\n",
    "    else:# no need tolerance as thee is already tolerance in lying on bed and touching phone\n",
    "        if sleeping:\n",
    "            logger.info(\"Sleeping for {time} seconds\".format(time=timenow-startsleepingtime))\n",
    "            # print(\"Sleeping for\",timenow-startsleepingtime,\"seconds\")\n",
    "            startsleepingtime = 0\n",
    "            sleeping = False\n",
    "            notsleepingtimestart = timenow\n",
    "## calculate the temperature of the bed\n",
    "def detecttemperature(pandas,thermal,person,size):\n",
    "    global tempBed,tempPerson\n",
    "    tempBed = bedtemperature(pandas,thermal,size)\n",
    "    if lyingonbed:\n",
    "        tempPerson = [bodytemperture(pandas,thermal,size,k) for k in person] \n",
    "\n",
    "def detections(pandas,thermal,size,timenow):\n",
    "    global personexist\n",
    "    noperson = len(pandas[pandas['class'] == 0])\n",
    "    if(isPersonAvailable(pandas)):\n",
    "            personexist = True\n",
    "            pass # can add time automation\n",
    "    else:\n",
    "        personexist = False\n",
    "        pass # can add time automation\n",
    "\n",
    "    ## lying on bed\n",
    "    re = False\n",
    "    person = []\n",
    "    global lyingonbed,notlyingtimestart,startlyingtime,chancelying\n",
    "    for k in range(noperson):\n",
    "        if(isLyinOnBed(pandas,k)):\n",
    "            re = True\n",
    "            person.append(k)\n",
    "    if re:\n",
    "        chancelying = 0\n",
    "        if not lyingonbed:\n",
    "            lyingonbed = True\n",
    "            startlyingtime = timenow\n",
    "            notlyingtimestart = 0\n",
    "    else:\n",
    "        if lyingonbed:\n",
    "            chancelying += 1\n",
    "            if chancelying > 3:\n",
    "                notlyingtimestart = timenow\n",
    "                lyingonbed = False\n",
    "                logger.info(\"Lying on bed for {time} seconds\".format(time=timenow-startlyingtime))\n",
    "                # print(\"Lying on bed for\",timenow-startlyingtime,\"seconds\")\n",
    "                startlyingtime = 0\n",
    "    \n",
    "    t1 = threading.Thread(target=detecttouch,args=(pandas,person,timenow))\n",
    "    t2 = threading.Thread(target=detectmoving,args=(pandas,timenow))\n",
    "    t3 = threading.Thread(target=detectsleep,args=(timenow,))\n",
    "    t4 = threading.Thread(target=detecttemperature,args=(pandas,thermal,person,size))\n",
    "    t1.start()\n",
    "    t2.start()\n",
    "    t3.start()\n",
    "    t4.start()\n",
    "\n",
    "\n",
    "            "
   ]
  },
  {
   "attachments": {},
   "cell_type": "markdown",
   "metadata": {},
   "source": [
    "# Actions"
   ]
  },
  {
   "attachments": {},
   "cell_type": "markdown",
   "metadata": {},
   "source": [
    "> All action are customizable, are highly extensible"
   ]
  },
  {
   "cell_type": "code",
   "execution_count": 14,
   "metadata": {},
   "outputs": [],
   "source": [
    "#dummy variable for example\n",
    "playingmusic = False \n",
    "lights = False \n",
    "aircon = False\n",
    "aircontemp = 25\n",
    "lastairconchange = 0\n",
    "callambulance = False"
   ]
  },
  {
   "attachments": {},
   "cell_type": "markdown",
   "metadata": {},
   "source": [
    "## When lying on bed"
   ]
  },
  {
   "cell_type": "code",
   "execution_count": 15,
   "metadata": {},
   "outputs": [],
   "source": [
    "def OnLyingBed(lying:bool,startlyingtime:float,stoplyingtime:float):\n",
    "    # Here are some examples\n",
    "    ## if the person is lying on the bed for more than 5 seconds, play music\n",
    "    global playingmusic,aircon\n",
    "    if lying and time.time()-startlyingtime >5 and not playingmusic:\n",
    "        #play music\n",
    "        playingmusic = True\n",
    "        logger.info(\"playing music\")\n",
    "        play_music()\n",
    "        # print(\"playing music\")\n",
    "    elif lying and stoplyingtime-time.time() >5 and playingmusic:\n",
    "        #stop music\n",
    "        playingmusic = False\n",
    "        logger.info(\"stop music\")\n",
    "        stop_music()\n",
    "        # print(\"stop music\")\n",
    "    \n",
    "    ## air con control\n",
    "    if lying and time.time()-startlyingtime >10 and not aircon:\n",
    "        #play music\n",
    "        aircon = True\n",
    "        logger.info(\"Aircon on\")\n",
    "        fan.set_fan_state(aircon)\n",
    "\n",
    "        # print(\"Aircon on\")\n",
    "    elif lying and stoplyingtime-time.time() >30 and aircon:\n",
    "        #stop music\n",
    "        playingmusic = False\n",
    "        logger.info(\"Aircon off\")\n",
    "        fan.set_fan_state(aircon)\n",
    "        # print(\"Aircon off\")\n"
   ]
  },
  {
   "attachments": {},
   "cell_type": "markdown",
   "metadata": {},
   "source": [
    "## When using(touching) phone"
   ]
  },
  {
   "cell_type": "code",
   "execution_count": 16,
   "metadata": {},
   "outputs": [],
   "source": [
    "def OnTouchingPhone(touching:bool,starttouchingtime:float):\n",
    "    # Here are some examples\n",
    "    ## if the person is touching the phone for more than 15 seconds, turn on the lights\n",
    "    global lights\n",
    "    if touching and time.time() - starttouchingtime >15 and not lights:\n",
    "        #turn on lights\n",
    "        lights = True\n",
    "        logger.info(\"turn on lights\")\n",
    "        light.set_light_state(lights)\n",
    "\n",
    "        # print(\"turn on lights\")"
   ]
  },
  {
   "attachments": {},
   "cell_type": "markdown",
   "metadata": {},
   "source": [
    "## When sleeping(on sleep mood)"
   ]
  },
  {
   "cell_type": "code",
   "execution_count": 17,
   "metadata": {},
   "outputs": [],
   "source": [
    "def OnSleeping(sleeping:bool,startsleepingtime:float):\n",
    "    # Here are some examples\n",
    "    ## if the person is in sleep mood for 5 seconds, turn off the lights\n",
    "    global light,playmusic\n",
    "    if sleeping and startsleepingtime-time.time() >5 and lights:\n",
    "        #turn off lights\n",
    "        lights = False\n",
    "        playmusic = False\n",
    "        logger.info(\"turn off lights\")\n",
    "        light.set_light_state(lights)\n",
    "\n",
    "        # print(\"turn off lights\")\n",
    "        # print(\"stop music\")\n",
    "    ## air con control"
   ]
  },
  {
   "attachments": {},
   "cell_type": "markdown",
   "metadata": {},
   "source": [
    "## When not moving/moving"
   ]
  },
  {
   "cell_type": "code",
   "execution_count": 18,
   "metadata": {},
   "outputs": [],
   "source": [
    "def OnNotMoving(notmoving:bool,startnotmovingtime:float,haveperson:bool):\n",
    "    # Here are some examples\n",
    "    ## if person is not lying on bed and not moving for 20 seconds, call for the ambulance\n",
    "    global lyingonbed,callambulance\n",
    "    if notmoving and startnotmovingtime-time.time() >20 and not lyingonbed and haveperson:\n",
    "        #call for ambulance\n",
    "        callambulance = True\n",
    "        logger.info(\"call for ambulance\")\n",
    "        ambulance_update()\n",
    "        # print(\"call for ambulance\")\n",
    "    else:\n",
    "        callambulance = False"
   ]
  },
  {
   "attachments": {},
   "cell_type": "markdown",
   "metadata": {},
   "source": [
    "# Not able to sleep"
   ]
  },
  {
   "cell_type": "code",
   "execution_count": null,
   "metadata": {},
   "outputs": [],
   "source": [
    "# 2 ways to work aroudn\n",
    "# 1. detect whether the person eyes is open and lying on bed\n",
    "# 2. "
   ]
  },
  {
   "attachments": {},
   "cell_type": "markdown",
   "metadata": {},
   "source": [
    "## Temperature handle"
   ]
  },
  {
   "cell_type": "code",
   "execution_count": 19,
   "metadata": {},
   "outputs": [],
   "source": [
    "countOfDangerTemp = 0\n",
    "def OnTemperature(tempPerson:list[float],tempBed):\n",
    "    # Here are some examples\n",
    "    ## if temperature of the person is more than 40 degrees or lower than 30 degrees, call for the ambulance\n",
    "    global callambulance,countOfDangerTemp,aircon,aircontemp,lastairconchange\n",
    "    logger.info(\"tempPerson: {tempPerson}, tempBed: {tempBed}\".format(tempPerson=tempPerson,tempBed=tempBed))\n",
    "    if  len(tempPerson) > 0 and (max(tempPerson) > 40 or min(tempPerson) < 30):\n",
    "        countOfDangerTemp +=1\n",
    "        if countOfDangerTemp > 5:\n",
    "            #call for ambulance\n",
    "            callambulance = True\n",
    "            logger.info(\"call for ambulance\")\n",
    "            ambulance_update()\n",
    "            # print(\"call for ambulance\")\n",
    "    else:\n",
    "        callambulance = False\n",
    "        ambulance_update()\n",
    "        countOfDangerTemp = 0\n",
    "    # ideal bed temp is betweeen 27 - 31\n",
    "    # body temp is 36\n",
    "    timenow = time.time()\n",
    "    if tempBed <0:\n",
    "        return\n",
    "    if len(tempPerson) > 0 and tempBed < 27:\n",
    "        if not aircon:\n",
    "            aircon = True\n",
    "            logger.info(\"Aircon on\")\n",
    "            fan.set_fan_state(aircon)\n",
    "\n",
    "            # print(\"Aircon on\")\n",
    "\n",
    "        if lastairconchange - timenow > 300:#i.e. 5min\n",
    "            aircontemp +=1\n",
    "            lastairconchange = timenow\n",
    "    elif len(tempPerson) > 0 and tempBed  > 31:\n",
    "        if not aircon:\n",
    "            aircon = True\n",
    "            logger.info(\"Aircon on\")\n",
    "            # print(\"Aircon on\")\n",
    "\n",
    "        if lastairconchange - timenow > 300:#i.e. 5min\n",
    "            aircontemp +=1\n",
    "            lastairconchange = timenow\n",
    "            \n",
    "\n"
   ]
  },
  {
   "attachments": {},
   "cell_type": "markdown",
   "metadata": {},
   "source": [
    "## Add more if you like"
   ]
  },
  {
   "cell_type": "code",
   "execution_count": 20,
   "metadata": {},
   "outputs": [],
   "source": [
    "## Action main\n",
    "def actions():\n",
    "    t1 = threading.Thread(target=OnLyingBed,args=(lyingonbed,startlyingtime,notlyingtimestart))\n",
    "    t2 = threading.Thread(target=OnTouchingPhone,args=(Touchingphone,starttouchingtime))\n",
    "    t3 = threading.Thread(target=OnSleeping,args=(sleeping,startsleepingtime))\n",
    "    t4 = threading.Thread(target=OnNotMoving,args=(notmoving,startnotmovingtime,personexist))\n",
    "    t5 = threading.Thread(target=OnTemperature,args=(tempPerson,tempBed))\n",
    "    ## Add more if you like\n",
    "    t1.start()\n",
    "    t2.start()\n",
    "    t3.start()\n",
    "    t4.start()\n",
    "    t5.start()\n",
    "    \n",
    "def ambulance_update():\n",
    "    if callambulance:\n",
    "        threading.Thread(target=call_ambulance).start()\n",
    "    else:\n",
    "        halt_ambulance()"
   ]
  },
  {
   "attachments": {},
   "cell_type": "markdown",
   "metadata": {},
   "source": [
    "### Play amublance sound with buzzer"
   ]
  },
  {
   "cell_type": "code",
   "execution_count": 21,
   "metadata": {},
   "outputs": [],
   "source": [
    "playing_lock = False\n",
    "term_ambulance = False\n",
    "def call_ambulance():\n",
    "    # connect to care service\n",
    "    # Let the care service know the person is in danger\n",
    "    # call ambulance\n",
    "    # the stuff below is just a demo\n",
    "    global playing_lock\n",
    "    if playing_lock:\n",
    "        return\n",
    "    playing_lock = True\n",
    "    flutuator = False\n",
    "    while not term_ambulance:\n",
    "        if flutuator:\n",
    "            flutuator = False\n",
    "        else:\n",
    "            flutuator = True\n",
    "        buzzer.send_buzzer_command(1480 if flutuator else 1407, 1000)\n",
    "        time.sleep(1)\n",
    "    playing_lock = False\n",
    "def halt_ambulance():\n",
    "   global term_ambulance\n",
    "   term_ambulance = True"
   ]
  },
  {
   "attachments": {},
   "cell_type": "markdown",
   "metadata": {},
   "source": [
    "# Care service"
   ]
  },
  {
   "cell_type": "code",
   "execution_count": null,
   "metadata": {},
   "outputs": [],
   "source": [
    "# work flow\n",
    "# first connect to service center\n",
    "# then let human check if its the case\n",
    "# last let human start talk with the patient"
   ]
  },
  {
   "attachments": {},
   "cell_type": "markdown",
   "metadata": {},
   "source": [
    "### Play music"
   ]
  },
  {
   "cell_type": "code",
   "execution_count": 22,
   "metadata": {},
   "outputs": [],
   "source": [
    "music_player = AudioPlayer('music/Chopin_Nocturne_E_Flat_Major_Op9_No2.mp3')\n",
    "def play_music():\n",
    "    music_player.play(block=False)\n",
    "def stop_music():\n",
    "    music_player.stop()   "
   ]
  },
  {
   "attachments": {},
   "cell_type": "markdown",
   "metadata": {},
   "source": [
    "# Main"
   ]
  },
  {
   "cell_type": "code",
   "execution_count": 23,
   "metadata": {},
   "outputs": [],
   "source": [
    "def main_analysis():\n",
    "    logger.info(\"Main starts\")\n",
    "    # print(\"Main starts\")\n",
    "    imagedisplay = widgets.Image(width=480, height=640)\n",
    "    display(imagedisplay,display_id=\"1\")\n",
    "    display(button_download)\n",
    "    while term:\n",
    "        #get data\n",
    "        if live_connection.new_frame_avaliable:\n",
    "            (frame,thermaldata)= live_connection.getcurrentframe()\n",
    "            \n",
    "            ## get into threading\n",
    "            t2 = threading.Thread(target=worker,args=(frame,thermaldata))\n",
    "            t2.start()\n",
    "\n",
    "\n",
    "def worker(frame,thermaldata):\n",
    "    ## convert bytes to image\n",
    "    timenow = time.time()\n",
    "    image = Image.open(BytesIO(frame))\n",
    "    ## make prediction\n",
    "    results = model(image)\n",
    "    ## display the image\n",
    "    t3 = threading.Thread(target=SetDisplay,args=(results,))\n",
    "    t3.start()\n",
    "    ## get the result\n",
    "    pandas = results.pandas().xyxy[0]\n",
    "    size = results.pandas().ims[0].shape\n",
    "    # DETECTIONS\n",
    "    detections(pandas,thermaldata,size,timenow)\n",
    "    # ACTIONS\n",
    "    actions()\n",
    "    \n",
    "def SetDisplay(results):\n",
    "    global posLogStream,logdeque\n",
    "    results.render()    \n",
    "    update_display(Image.fromarray(results.ims[0]),display_id=\"1\")\n",
    "    display(button_download)\n",
    "    # print body temp and bed temp\n",
    "    print(\"Body temp: {tempPerson}, Bed temp: {tempBed}\".format(tempPerson=tempPerson,tempBed=tempBed))\n",
    "    # print last 10 lines of log\n",
    "    LogStream.seek(posLogStream)\n",
    "    for lines in LogStream.readlines():\n",
    "        logdeque.append(lines)\n",
    "    posLogStream = LogStream.tell()\n",
    "    print(''.join(logdeque))\n",
    "\n",
    "            "
   ]
  }
 ],
 "metadata": {
  "kernelspec": {
   "display_name": "myenv",
   "language": "python",
   "name": "python3"
  },
  "language_info": {
   "codemirror_mode": {
    "name": "ipython",
    "version": 3
   },
   "file_extension": ".py",
   "mimetype": "text/x-python",
   "name": "python",
   "nbconvert_exporter": "python",
   "pygments_lexer": "ipython3",
   "version": "3.10.9"
  },
  "orig_nbformat": 4,
  "vscode": {
   "interpreter": {
    "hash": "3f866095237afaa04539ae9c6bc2a47878a346d67d7c72affe71a42b81528334"
   }
  }
 },
 "nbformat": 4,
 "nbformat_minor": 2
}

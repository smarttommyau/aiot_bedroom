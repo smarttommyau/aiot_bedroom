{
 "cells": [
  {
   "attachments": {},
   "cell_type": "markdown",
   "metadata": {},
   "source": [
    "# Import Libray"
   ]
  },
  {
   "cell_type": "code",
   "execution_count": 1,
   "metadata": {},
   "outputs": [],
   "source": [
    "from live_connection import Live_connection\n",
    "import threading\n",
    "import torch\n",
    "from PIL import Image\n",
    "from io import BytesIO\n",
    "import math\n",
    "import time\n",
    "import numpy as np\n",
    "from IPython.display import display,update_display\n",
    "import ipywidgets as widgets"
   ]
  },
  {
   "attachments": {},
   "cell_type": "markdown",
   "metadata": {},
   "source": [
    "# Setup stuffs"
   ]
  },
  {
   "attachments": {},
   "cell_type": "markdown",
   "metadata": {},
   "source": [
    "## Load and setup model"
   ]
  },
  {
   "cell_type": "code",
   "execution_count": 2,
   "metadata": {},
   "outputs": [
    {
     "name": "stderr",
     "output_type": "stream",
     "text": [
      "Using cache found in C:\\Users\\Tommy AU/.cache\\torch\\hub\\ultralytics_yolov5_master\n",
      "YOLOv5  2023-2-1 Python-3.10.9 torch-1.12.1 CPU\n",
      "\n",
      "Fusing layers... \n",
      "YOLOv5x6 summary: 574 layers, 140730220 parameters, 0 gradients\n",
      "Adding AutoShape... \n"
     ]
    }
   ],
   "source": [
    "model = torch.hub.load('ultralytics/yolov5', 'yolov5x6', pretrained=True)\n",
    "model.classes = [0,59,63,67]# person, bed, laptop(as some phone can be detact by laptop), cell phone \n",
    "torch.set_num_interop_threads(8)# improve performance\n",
    "torch.set_num_threads(8)"
   ]
  },
  {
   "attachments": {},
   "cell_type": "markdown",
   "metadata": {},
   "source": [
    "## 🚩 Here is the place to start the program\n",
    "## Start and Setup socket(Connect camera) \n",
    "## And Call main()\n",
    "> ### ⚠  There maybe error message pop up when you restart the socket, ignore it will do the job<br>\n",
    "\n",
    "> ### 🎥 The image will have a high latency then the actuall latency,<br>   As the render of image use >10 sec.<br>Stuff is still working on normal latency, only the image preview is slow."
   ]
  },
  {
   "cell_type": "code",
   "execution_count": 42,
   "metadata": {},
   "outputs": [
    {
     "data": {
      "image/png": "[encoded data removed]",
      "text/plain": [
       "<PIL.Image.Image image mode=RGB size=480x640>"
      ]
     },
     "metadata": {},
     "output_type": "display_data"
    },
    {
     "ename": "KeyboardInterrupt",
     "evalue": "",
     "output_type": "error",
     "traceback": [
      "\u001b[1;31m---------------------------------------------------------------------------\u001b[0m",
      "\u001b[1;31mKeyboardInterrupt\u001b[0m                         Traceback (most recent call last)",
      "Cell \u001b[1;32mIn[42], line 20\u001b[0m\n\u001b[0;32m     18\u001b[0m button_download\u001b[39m.\u001b[39mon_click(onclick)\n\u001b[0;32m     19\u001b[0m display(button_download)\n\u001b[1;32m---> 20\u001b[0m main_analysis()\n",
      "Cell \u001b[1;32mIn[41], line 7\u001b[0m, in \u001b[0;36mmain_analysis\u001b[1;34m()\u001b[0m\n\u001b[0;32m      4\u001b[0m display(imagedisplay,display_id\u001b[39m=\u001b[39m\u001b[39m\"\u001b[39m\u001b[39m1\u001b[39m\u001b[39m\"\u001b[39m)\n\u001b[0;32m      5\u001b[0m \u001b[39mwhile\u001b[39;00m term:\n\u001b[0;32m      6\u001b[0m     \u001b[39m#get data\u001b[39;00m\n\u001b[1;32m----> 7\u001b[0m     \u001b[39mif\u001b[39;00m live_connection\u001b[39m.\u001b[39mnew_frame_avaliable:\n\u001b[0;32m      8\u001b[0m         (frame,thermaldata)\u001b[39m=\u001b[39m live_connection\u001b[39m.\u001b[39mgetcurrentframe()\n\u001b[0;32m     10\u001b[0m         \u001b[39m## get into threading\u001b[39;00m\n",
      "\u001b[1;31mKeyboardInterrupt\u001b[0m: "
     ]
    }
   ],
   "source": [
    "addr = \"192.168.0.210\"## use ipconfig to find the ip address of the computer\n",
    "x = input(\"Address to bind(enter for default):\")\n",
    "if x != \"\":\n",
    "    addr = x\n",
    "try:\n",
    "    if live_connection != None and not live_connection.died:\n",
    "        live_connection.terminate()\n",
    "except NameError:\n",
    "    pass\n",
    "live_connection = None\n",
    "live_connection = Live_connection(addr,7782)# 7777 is the default port, use other port if the port is blocked\n",
    "\n",
    "t1 = threading.Thread(target=live_connection.start_connection,kwargs={\"nolog\":True},group=None)\n",
    "# nolog = True\n",
    "t1.start()\n",
    "term = True\n",
    "button_download = widgets.Button(description = 'Stop')   \n",
    "button_download.on_click(onclick)\n",
    "display(button_download)\n",
    "main_analysis()"
   ]
  },
  {
   "attachments": {},
   "cell_type": "markdown",
   "metadata": {},
   "source": [
    "### Force Stop\n",
    "> Press start and stop the below cell multiple times to kill the program"
   ]
  },
  {
   "cell_type": "code",
   "execution_count": 24,
   "metadata": {},
   "outputs": [],
   "source": [
    "def onclick(arg):\n",
    "    Term = False\n",
    "    live_connection.terminate()\n",
    "    t1.terminate()\n",
    "    live_connection = None"
   ]
  },
  {
   "attachments": {},
   "cell_type": "markdown",
   "metadata": {},
   "source": [
    "### Close socket if needed\n",
    "> or reset some var"
   ]
  },
  {
   "cell_type": "code",
   "execution_count": 25,
   "metadata": {},
   "outputs": [],
   "source": [
    "# live_connection.ss.close()\n",
    "# live_connection = None"
   ]
  },
  {
   "attachments": {},
   "cell_type": "markdown",
   "metadata": {},
   "source": [
    "## Variable of current state"
   ]
  },
  {
   "cell_type": "code",
   "execution_count": 26,
   "metadata": {},
   "outputs": [],
   "source": [
    "#global tolerance\n",
    "tolerance = 10\n",
    "## Person exist\n",
    "personexist = False\n",
    "## lying bed\n",
    "lyingonbed = False\n",
    "startlyingtime = 0\n",
    "notlyingtimestart = 0\n",
    "chancelying = 3\n",
    "## touching phone\n",
    "Touchingphone = False\n",
    "starttouchingtime = 0\n",
    "nottouchingtimestart = 0\n",
    "chanceTouching = 3\n",
    "## sleeping\n",
    "sleeping = False\n",
    "startsleepingtime = 0\n",
    "notsleepingtimestart = 0\n",
    "## not moving\n",
    "notmoving = False\n",
    "lastposition = [0,0,0,0]\n",
    "toleranceOfNotMoving = 10\n",
    "startnotmovingtime = 0\n",
    "movingtimestart = 0\n",
    "chancenotmoving = 2\n",
    "## temperatures\n",
    "tempPerson = []\n",
    "### core temp requires face recongnition\n",
    "tempBed = 0"
   ]
  },
  {
   "attachments": {},
   "cell_type": "markdown",
   "metadata": {},
   "source": [
    "# Condition for automation"
   ]
  },
  {
   "attachments": {},
   "cell_type": "markdown",
   "metadata": {},
   "source": [
    "## Person detection"
   ]
  },
  {
   "cell_type": "code",
   "execution_count": 27,
   "metadata": {},
   "outputs": [],
   "source": [
    "def isPersonAvailable(pandas)-> bool:\n",
    "    return 0 in pandas['class'].array"
   ]
  },
  {
   "attachments": {},
   "cell_type": "markdown",
   "metadata": {},
   "source": [
    "## Bed lying detection"
   ]
  },
  {
   "cell_type": "code",
   "execution_count": 28,
   "metadata": {},
   "outputs": [],
   "source": [
    "def isLyinOnBed(pandas,k:int)->bool:\n",
    "    #pandasDataFrame is the output of model(pandas.DataFrame)\n",
    "    #return true if the person is lying on the bed\n",
    "    #return false if the person is not lying on the bed\n",
    "\n",
    "    # Check if the person is on bed     \n",
    "    if not(0 in pandas['class'].array):\n",
    "        return False\n",
    "    # Calculate the length ratio of person on the bed\n",
    "    personxlen = pandas[pandas['class'] == 0]['xmax'].array[k] - pandas[pandas['class'] == 0]['xmin'].array[k]\n",
    "    personylen = pandas[pandas['class'] == 0]['ymax'].array[k] - pandas[pandas['class'] == 0]['ymin'].array[k]\n",
    "    if not(59 in pandas['class'].array):\n",
    "        if personylen>personxlen:\n",
    "            if(personylen/personxlen>3 and personylen/personxlen<5):# acoording to web data, the ratio of length of shoulder is 4:1\n",
    "                return True\n",
    "            else:\n",
    "                return False\n",
    "    bedxlen = pandas[pandas['class'] == 59]['xmax'].array[0] - pandas[pandas['class'] == 59]['xmin'].array[0]\n",
    "    bedylen = pandas[pandas['class'] == 59]['ymax'].array[0] - pandas[pandas['class'] == 59]['ymin'].array[0]\n",
    "\n",
    "    if bedxlen > bedylen :\n",
    "            return personxlen/bedxlen > 0.7\n",
    "    else:\n",
    "            return personylen/bedylen > 0.7\n"
   ]
  },
  {
   "attachments": {},
   "cell_type": "markdown",
   "metadata": {},
   "source": [
    "## Touching phone detection"
   ]
  },
  {
   "cell_type": "code",
   "execution_count": 29,
   "metadata": {},
   "outputs": [],
   "source": [
    "def isTouchingPhone(pandas,person)->bool:\n",
    "    #pandasDataFrame is the output of model(pandas.DataFrame)\n",
    "    #return true if the person is touching the phone\n",
    "    #return false if the person is not touching the phone\n",
    "    #return None if the person is not in the frame\n",
    "    # Check if the person is on bed\n",
    "    phone = []\n",
    "    if not(63 in pandas['class'].array):\n",
    "        return False\n",
    "    else:\n",
    "        phone.append(pandas[pandas['class'] == 63])\n",
    "    if not(67 in pandas['class'].array):\n",
    "        return False\n",
    "    else:\n",
    "        phone.append(pandas[pandas['class'] == 67])\n",
    "    person = pandas[pandas['class'] == 0]\n",
    "    # see if the person touches the phone\n",
    "    overlapArea = 0\n",
    "    for x in person:\n",
    "        for y in phone:\n",
    "            for z in range(len(y)):\n",
    "                x_overlap = math.max(0, math.min(y['xmax'].array[z], person['xmax'].array[x]) - math.max(y['xmin'].array[z], person['xmin'].array[x]));\n",
    "                y_overlap = math.max(0, math.min(y['ymax'].array[z], person['ymax'].array[x]) - math.max(y['ymin'].array[z], person['ymin'].array[x]));\n",
    "                overlapArea = math.Max(overlapArea,x_overlap * y_overlap);\n",
    "                areaphone = (y['xmax'].array[z] - y['xmin'].array[z])*(y['ymax'].array[z] - y['ymin'].array[z])\n",
    "                if overlapArea/areaphone > 0.5:\n",
    "                    return True\n",
    "    return False"
   ]
  },
  {
   "attachments": {},
   "cell_type": "markdown",
   "metadata": {},
   "source": [
    "## Human movement detection"
   ]
  },
  {
   "cell_type": "code",
   "execution_count": 30,
   "metadata": {},
   "outputs": [],
   "source": [
    "def isnotmoving(pandas)->bool:\n",
    "    #pandasDataFrame is the output of model(pandas.DataFrame)\n",
    "    #return true if the person is not moving\n",
    "    #return false if the person is moving\n",
    "    #return None if the person is not in the frame\n",
    "    # Check if the person is on bed\n",
    "    person = pandas[pandas['class'] == 0]\n",
    "    if len(person) == 0:\n",
    "        return None\n",
    "    else:\n",
    "        x = person['xmin'].array[0]\n",
    "        y = person['ymin'].array[0]\n",
    "        x2 = person['xmax'].array[0]\n",
    "        y2 = person['ymax'].array[0]\n",
    "        if abs(x - lastposition[0]) < toleranceOfNotMoving and abs(y - lastposition[1]) < toleranceOfNotMoving and abs(x2 - lastposition[2]) < toleranceOfNotMoving and abs(y2 - lastposition[3]) < toleranceOfNotMoving:\n",
    "            return True\n",
    "        else:\n",
    "            lastposition[0] = x\n",
    "            lastposition[1] = y\n",
    "            lastposition[2] = x2\n",
    "            lastposition[3] = y2\n",
    "            return False"
   ]
  },
  {
   "attachments": {},
   "cell_type": "markdown",
   "metadata": {},
   "source": [
    "## Bed Temperature"
   ]
  },
  {
   "cell_type": "code",
   "execution_count": 31,
   "metadata": {},
   "outputs": [],
   "source": [
    "def insideBed(x,y,pandas):\n",
    "    return x > pandas[pandas['class'] == 59]['xmin'].array[0] and x < pandas[pandas['class'] == 59]['xmax'].array[0] and y > pandas[pandas['class'] == 59]['ymin'].array[0] and y < pandas[pandas['class'] == 59]['ymax'].array[0]\n",
    "def insideOtherObject(x,y,pandas):\n",
    "    list = pandas[pandas['class']!=59]\n",
    "    for i in range(len(list)):\n",
    "        if x > list['xmin'].array[i] and x < list['xmax'].array[i] and y > list['ymin'].array[i] and y < list['ymax'].array[i]:\n",
    "            return True\n",
    "    return False\n",
    "def bedtemperature(pandas,thermal):\n",
    "    ## calculate the temperature of the bed by calculate the average temperature of the bed exclude the person\n",
    "    ## return the temperature of the bed\n",
    "    if(59 not in pandas['class'].array):\n",
    "        return None\n",
    "    temp = 0\n",
    "    count = 0\n",
    "    for x in range(len(thermal[0])):\n",
    "        for y in range(len(thermal)):\n",
    "            # exclude persons and the extra objects\n",
    "            # only count the temperature of the bed\n",
    "            if insideBed(x,y,pandas) and not insideOtherObject(x,y,pandas):\n",
    "                count+=1\n",
    "                temp = temp + (thermal[y][x] - temp)/count\n",
    "    return temp "
   ]
  },
  {
   "attachments": {},
   "cell_type": "markdown",
   "metadata": {},
   "source": [
    "## Body Temperature"
   ]
  },
  {
   "cell_type": "code",
   "execution_count": 32,
   "metadata": {},
   "outputs": [],
   "source": [
    "def bodytemperture(pandas,thermal,k:int):\n",
    "    ## calculate the temperature of the person by calculate the average temperature of the person\n",
    "    ## return the temperature of the person\n",
    "    ## reduce the insignificant temperature(extermely low or high,ie >40, <20)\n",
    "    temp = 0\n",
    "    count = 0\n",
    "    for x in range(len(thermal[0])):\n",
    "        for y in range(len(thermal)):\n",
    "            ## check if the point is in the person\n",
    "            if ( pandas[pandas['class'] == 0]['xmax'].array[k] <= x and np.all(x >= pandas[pandas['class'] == 0]['xmin'].array[k] ) \\\n",
    "            and                                                                                                                     \\\n",
    "                pandas[pandas['class'] == 0]['ymax'].array[k] <= x and np.all(x >= pandas[pandas['class'] == 0]['ymin'].array[k] ) )\\\n",
    "            and thermal[x][y] < 40 and thermal[x][y] > 20:\n",
    "                 count+=1\n",
    "                 temp = temp + (thermal[x][y] - temp)/count\n",
    "    return temp"
   ]
  },
  {
   "attachments": {},
   "cell_type": "markdown",
   "metadata": {},
   "source": [
    "## Detection Main"
   ]
  },
  {
   "cell_type": "code",
   "execution_count": 33,
   "metadata": {},
   "outputs": [],
   "source": [
    "## touching phone\n",
    "def detecttouch(pandas,person,timenow):\n",
    "    global nottouchingtimestart,starttouchingtime,Touchingphone,chanceTouching\n",
    "    if isTouchingPhone(pandas,person):\n",
    "        chanceTouching = 0\n",
    "        if not Touchingphone:\n",
    "            Touchingphone = True\n",
    "            starttouchingtime = timenow\n",
    "            nottouchingtimestart = 0\n",
    "            print(\"Touching phone\")\n",
    "    else:\n",
    "        if Touchingphone:\n",
    "            chanceTouching += 1\n",
    "            if chanceTouching > 3:\n",
    "                nottouchingtimestart = timenow\n",
    "                Touchingphone = False\n",
    "                print(\"Touching phone for\",timenow-starttouchingtime,\"seconds\")\n",
    "                starttouchingtime = 0\n",
    "\n",
    "## is not moving\n",
    "def detectmoving(pandas,person,timenow):\n",
    "    global notmoving,startnotmovingtime,movingtimestart,chancenotmoving\n",
    "    if isnotmoving(pandas):\n",
    "        chancenotmoving = 0\n",
    "        if not notmoving:\n",
    "            notmoving = True\n",
    "            startnotmovingtime = timenow\n",
    "            movingtimestart = 0\n",
    "            print(\"Not moving\")\n",
    "    else:\n",
    "        if notmoving:\n",
    "            chancenotmoving += 1\n",
    "            if chancenotmoving > 2:\n",
    "                movingtimestart = timenow\n",
    "                notmoving = False\n",
    "                print(\"Not moving for\",timenow-startnotmovingtime,\"seconds\")\n",
    "                startnotmovingtime = 0\n",
    "    ### sleeping or in sleep mood\n",
    "# if lyingfor bed for 10 seconds and not touching phone for 10 seconds, then sleep \n",
    "def detectsleep(pandas,person,timenow):  \n",
    "    global sleeping,startsleepingtime,notsleepingtimestart \n",
    "    if lyingonbed and not Touchingphone:\n",
    "        if not sleeping:\n",
    "            startsleepingtime = timenow\n",
    "            sleeping = True\n",
    "            notsleepingtimestart = 0\n",
    "            print(\"Sleeping\")\n",
    "    else:# no need tolerance as thee is already tolerance in lying on bed and touching phone\n",
    "        if sleeping:\n",
    "            print(\"Sleeping for\",timenow-startsleepingtime,\"seconds\")\n",
    "            startsleepingtime = 0\n",
    "            sleeping = False\n",
    "            notsleepingtimestart = timenow\n",
    "## calculate the temperature of the bed\n",
    "def detecttemperature(pandas,thermal,person):\n",
    "    tempBed = bedtemperature(pandas,thermal)\n",
    "    if lyingonbed:\n",
    "        tempPerson = [bodytemperture(pandas,thermal,k) for k in person] \n",
    "\n",
    "def detections(pandas,thermal,timenow):\n",
    "    noperson = len(pandas[pandas['class'] == 0])\n",
    "    if(isPersonAvailable(pandas)):\n",
    "            personexist = True\n",
    "            pass # can add time automation\n",
    "    else:\n",
    "        personexist = False\n",
    "        pass # can add time automation\n",
    "\n",
    "    ## lying on bed\n",
    "    re = False\n",
    "    person = []\n",
    "    global lyingonbed,notlyingtimestart,startlyingtime,chancelying\n",
    "    for k in range(noperson):\n",
    "        if(isLyinOnBed(pandas,k)):\n",
    "            re = True\n",
    "            person.append(k)\n",
    "    if re:\n",
    "        chancelying = 0\n",
    "        if not lyingonbed:\n",
    "            lyingonbed = True\n",
    "            startlyingtime = timenow\n",
    "            notlyingtimestart = 0\n",
    "    else:\n",
    "        if lyingonbed:\n",
    "            chancelying += 1\n",
    "            if chancelying > 3:\n",
    "                notlyingtimestart = timenow\n",
    "                lyingonbed = False\n",
    "                print(\"Lying on bed for\",timenow-startlyingtime,\"seconds\")\n",
    "                startlyingtime = 0\n",
    "    \n",
    "    t1 = threading.Thread(target=detecttouch,args=(pandas,person,timenow))\n",
    "    t2 = threading.Thread(target=detectmoving,args=(pandas,person,timenow))\n",
    "    t3 = threading.Thread(target=detectsleep,args=(pandas,person,timenow))\n",
    "    t4 = threading.Thread(target=detecttemperature,args=(pandas,thermal,person))\n",
    "    t1.start()\n",
    "    t2.start()\n",
    "    t3.start()\n",
    "    t4.start()\n",
    "\n",
    "\n",
    "            "
   ]
  },
  {
   "attachments": {},
   "cell_type": "markdown",
   "metadata": {},
   "source": [
    "# Actions"
   ]
  },
  {
   "attachments": {},
   "cell_type": "markdown",
   "metadata": {},
   "source": [
    "> All action are customizable, are highly extensible"
   ]
  },
  {
   "cell_type": "code",
   "execution_count": 34,
   "metadata": {},
   "outputs": [],
   "source": [
    "#dummy variable for example\n",
    "playingmusic = False \n",
    "lights = False \n",
    "aircon = False\n",
    "aircontemp = 25\n",
    "callambulance = False"
   ]
  },
  {
   "attachments": {},
   "cell_type": "markdown",
   "metadata": {},
   "source": [
    "## When lying on bed"
   ]
  },
  {
   "cell_type": "code",
   "execution_count": 35,
   "metadata": {},
   "outputs": [],
   "source": [
    "def OnLyingBed(lying:bool,startlyingtime:float,stoplyingtime:float):\n",
    "    # Here are some examples\n",
    "    ## if the person is lying on the bed for more than 5 seconds, play music\n",
    "    global playingmusic\n",
    "    if startlyingtime-time.time() >5 and not playingmusic:\n",
    "        #play music\n",
    "        playingmusic = True\n",
    "        print(\"playing music\")\n",
    "    elif stoplyingtime-time.time() >5 and playingmusic:\n",
    "        #stop music\n",
    "        playingmusic = False\n",
    "        print(\"stop music\")\n",
    "    ## air con control\n",
    "    "
   ]
  },
  {
   "attachments": {},
   "cell_type": "markdown",
   "metadata": {},
   "source": [
    "## When using(touching) phone"
   ]
  },
  {
   "cell_type": "code",
   "execution_count": 36,
   "metadata": {},
   "outputs": [],
   "source": [
    "def OnTouchingPhone(touching:bool,starttouchingtime:float,stoptouchingtime:float):\n",
    "    # Here are some examples\n",
    "    ## if the person is touching the phone for more than 15 seconds, turn on the lights\n",
    "    global lights\n",
    "    if starttouchingtime-time.time() >15 and not lights:\n",
    "        #turn on lights\n",
    "        lights = True\n",
    "        print(\"turn on lights\")"
   ]
  },
  {
   "attachments": {},
   "cell_type": "markdown",
   "metadata": {},
   "source": [
    "## When sleeping(on sleep mood)"
   ]
  },
  {
   "cell_type": "code",
   "execution_count": 37,
   "metadata": {},
   "outputs": [],
   "source": [
    "def OnSleeping(sleeping:bool,startsleepingtime:float,stopsleepingtime:float):\n",
    "    # Here are some examples\n",
    "    ## if the person is in sleep mood for 5 seconds, turn off the lights\n",
    "    global light,playmusic\n",
    "    if startsleepingtime-time.time() >5 and lights:\n",
    "        #turn off lights\n",
    "        lights = False\n",
    "        playmusic = False\n",
    "        print(\"turn off lights\")\n",
    "        print(\"stop music\")\n",
    "    ## air con control"
   ]
  },
  {
   "attachments": {},
   "cell_type": "markdown",
   "metadata": {},
   "source": [
    "## When not moving/moving"
   ]
  },
  {
   "cell_type": "code",
   "execution_count": 38,
   "metadata": {},
   "outputs": [],
   "source": [
    "def OnNotMoving(notmoving:bool,startnotmovingtime:float,stopnotmovingtime:float,haveperson:bool):\n",
    "    # Here are some examples\n",
    "    ## if person is not lying on bed and not moving for 20 seconds, call for the ambulance\n",
    "    global lyingonbed\n",
    "    if startnotmovingtime-time.time() >20 and not lyingonbed and haveperson:\n",
    "        #call for ambulance\n",
    "        callambulance = True\n",
    "        print(\"call for ambulance\")"
   ]
  },
  {
   "attachments": {},
   "cell_type": "markdown",
   "metadata": {},
   "source": [
    "## Temperature handle"
   ]
  },
  {
   "cell_type": "code",
   "execution_count": 39,
   "metadata": {},
   "outputs": [],
   "source": [
    "countOfDangerTemp = 0\n",
    "def OnTemperature(tempPerson:list[float],tempBed):\n",
    "    # Here are some examples\n",
    "    ## if temperature of the person is more than 40 degrees or lower than 30 degrees, call for the ambulance\n",
    "    global callambulance,countOfDangerTemp\n",
    "    if  len(tempPerson) > 0 and (max(tempPerson) > 40 or min(tempPerson) < 30):\n",
    "        countOfDangerTemp +=1\n",
    "        if countOfDangerTemp > 5:\n",
    "            #call for ambulance\n",
    "            callambulance = True\n",
    "            print(\"call for ambulance\")\n",
    "    else:\n",
    "        countOfDangerTemp = 0"
   ]
  },
  {
   "attachments": {},
   "cell_type": "markdown",
   "metadata": {},
   "source": [
    "## Add more if you like"
   ]
  },
  {
   "cell_type": "code",
   "execution_count": 40,
   "metadata": {},
   "outputs": [],
   "source": [
    "## Action main\n",
    "def actions():\n",
    "    t1 = threading.Thread(target=OnLyingBed,args=(lyingonbed,startlyingtime,notlyingtimestart))\n",
    "    t2 = threading.Thread(target=OnTouchingPhone,args=(Touchingphone,starttouchingtime,nottouchingtimestart))\n",
    "    t3 = threading.Thread(target=OnSleeping,args=(sleeping,startsleepingtime,notsleepingtimestart))\n",
    "    t4 = threading.Thread(target=OnNotMoving,args=(notmoving,startnotmovingtime,movingtimestart,personexist))\n",
    "    t5 = threading.Thread(target=OnTemperature,args=(tempPerson,tempBed))\n",
    "    ## Add more if you like\n",
    "    t1.start()\n",
    "    t2.start()\n",
    "    t3.start()\n",
    "    t4.start()\n",
    "    t5.start()\n",
    "    "
   ]
  },
  {
   "attachments": {},
   "cell_type": "markdown",
   "metadata": {},
   "source": [
    "# Main"
   ]
  },
  {
   "cell_type": "code",
   "execution_count": 41,
   "metadata": {},
   "outputs": [],
   "source": [
    "def main_analysis():\n",
    "    print(\"Main starts\")\n",
    "    imagedisplay = widgets.Image(width=480, height=640)\n",
    "    display(imagedisplay,display_id=\"1\")\n",
    "    while term:\n",
    "        #get data\n",
    "        if live_connection.new_frame_avaliable:\n",
    "            (frame,thermaldata)= live_connection.getcurrentframe()\n",
    "            \n",
    "            ## get into threading\n",
    "            t2 = threading.Thread(target=worker,args=(frame,thermaldata))\n",
    "            t2.start()\n",
    "\n",
    "\n",
    "\n",
    "        def worker(frame,thermaldata):\n",
    "            ## convert bytes to image\n",
    "            timenow = time.time()\n",
    "            image = Image.open(BytesIO(frame))\n",
    "            ## make prediction\n",
    "            results = model(image)\n",
    "            ## display the image\n",
    "            t3 = threading.Thread(target=SetDisplay,args=(results,))\n",
    "            t3.start()\n",
    "            ## get the result\n",
    "            pandas = results.pandas().xyxy[0]\n",
    "            # DETECTIONS\n",
    "            detections(pandas,thermaldata,timenow)\n",
    "            # ACTIONS\n",
    "            actions()\n",
    "            \n",
    "        def SetDisplay(results):\n",
    "            results.render()\n",
    "            update_display(Image.fromarray(results.ims[0]),display_id=\"1\")\n",
    "            "
   ]
  }
 ],
 "metadata": {
  "kernelspec": {
   "display_name": "myenv",
   "language": "python",
   "name": "python3"
  },
  "language_info": {
   "codemirror_mode": {
    "name": "ipython",
    "version": 3
   },
   "file_extension": ".py",
   "mimetype": "text/x-python",
   "name": "python",
   "nbconvert_exporter": "python",
   "pygments_lexer": "ipython3",
   "version": "3.10.9"
  },
  "orig_nbformat": 4,
  "vscode": {
   "interpreter": {
    "hash": "3f866095237afaa04539ae9c6bc2a47878a346d67d7c72affe71a42b81528334"
   }
  }
 },
 "nbformat": 4,
 "nbformat_minor": 2
}

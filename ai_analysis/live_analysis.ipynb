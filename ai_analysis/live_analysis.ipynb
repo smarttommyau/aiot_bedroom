{
 "cells": [
  {
   "attachments": {},
   "cell_type": "markdown",
   "metadata": {},
   "source": [
    "# Import Libray"
   ]
  },
  {
   "cell_type": "code",
   "execution_count": 4,
   "metadata": {},
   "outputs": [],
   "source": [
    "from live_connection import Live_connection\n",
    "import threading\n",
    "import torch\n",
    "from PIL import Image\n",
    "from io import BytesIO\n",
    "import time\n",
    "import numpy as np"
   ]
  },
  {
   "attachments": {},
   "cell_type": "markdown",
   "metadata": {},
   "source": [
    "# Setup stuffs"
   ]
  },
  {
   "attachments": {},
   "cell_type": "markdown",
   "metadata": {},
   "source": [
    "## Load and setup model"
   ]
  },
  {
   "cell_type": "code",
   "execution_count": null,
   "metadata": {},
   "outputs": [],
   "source": [
    "model = torch.hub.load('ultralytics/yolov5', 'yolov5x6', pretrained=True)\n",
    "model.classes = [0,59,63,67]# person, bed, laptop(as some phone can be detact by laptop), cell phone \n",
    "torch.set_num_interop_threads(8)# improve performance\n",
    "torch.set_num_threads(8)"
   ]
  },
  {
   "attachments": {},
   "cell_type": "markdown",
   "metadata": {},
   "source": [
    "## Start and Setup socket(Connect camera)"
   ]
  },
  {
   "cell_type": "code",
   "execution_count": null,
   "metadata": {},
   "outputs": [],
   "source": [
    "live_connection = Live_connection(input(\"Address to bind:\"),7777)# 7777 is the default port\n",
    "\n",
    "live_connection.start_connection()\n",
    "\n",
    "t1 = threading.Thread(live_connection.start_recieve())\n",
    "t1.start()"
   ]
  },
  {
   "attachments": {},
   "cell_type": "markdown",
   "metadata": {},
   "source": [
    "## Variable of current state"
   ]
  },
  {
   "cell_type": "code",
   "execution_count": null,
   "metadata": {},
   "outputs": [],
   "source": [
    "## lying bed\n",
    "lyingonbed = False\n",
    "startlyingtime = 0\n",
    "notlyingtimestart = 0\n",
    "chancelying = 3\n",
    "## touching phone\n",
    "Touchingphone = False\n",
    "starttouchingtime = 0\n",
    "nottouchingtimestart = 0\n",
    "chancetouching = 3\n",
    "## sleeping\n",
    "sleeping = False\n",
    "startsleepingtime = 0\n",
    "notsleepingtimestart = 0\n",
    "## temperatures\n",
    "tempPerson = 0\n",
    "### core temp requires face recongnition\n",
    "tempBed = 0"
   ]
  },
  {
   "attachments": {},
   "cell_type": "markdown",
   "metadata": {},
   "source": [
    "# Condition for automation"
   ]
  },
  {
   "attachments": {},
   "cell_type": "markdown",
   "metadata": {},
   "source": [
    "## Person detection"
   ]
  },
  {
   "cell_type": "code",
   "execution_count": null,
   "metadata": {},
   "outputs": [],
   "source": [
    "def isPersonAvailable(pandas)-> bool:\n",
    "    return 0 in pandas['class'].array"
   ]
  },
  {
   "attachments": {},
   "cell_type": "markdown",
   "metadata": {},
   "source": [
    "## Bed lying detection"
   ]
  },
  {
   "cell_type": "code",
   "execution_count": null,
   "metadata": {},
   "outputs": [],
   "source": [
    "def isLyinOnBed(pandas,k:int)->bool:\n",
    "    #pandasDataFrame is the output of model(pandas.DataFrame)\n",
    "    #return true if the person is lying on the bed\n",
    "    #return false if the person is not lying on the bed\n",
    "\n",
    "    # Check if the person is on bed     \n",
    "    \n",
    "    # Calculate the length ratio of person on the bed\n",
    "    personxlen = pandas[pandas['class'] == 0]['xmax'].array[k] - pandas[pandas['class'] == 0]['xmin'].array[k]\n",
    "    personylen = pandas[pandas['class'] == 0]['ymax'].array[k] - pandas[pandas['class'] == 0]['ymin'].array[k]\n",
    "    if not(59 in pandas['class'].array):\n",
    "        if personylen>personxlen:\n",
    "            if(personylen/personxlen>3.7 and personylen/personxlen<4.3):# acoording to web search, the ratio of length of shoulder is 4:1\n",
    "                return True\n",
    "            else:\n",
    "                return False\n",
    "    bedxlen = pandas[pandas['class'] == 59]['xmax'].array[0] - pandas[pandas['class'] == 59]['xmin'].array[0]\n",
    "    bedylen = pandas[pandas['class'] == 59]['ymax'].array[0] - pandas[pandas['class'] == 59]['ymin'].array[0]\n",
    "\n",
    "    if bedxlen > bedylen :\n",
    "            return personxlen/bedxlen > 0.7\n",
    "    else:\n",
    "            return personylen/bedylen > 0.7\n"
   ]
  },
  {
   "attachments": {},
   "cell_type": "markdown",
   "metadata": {},
   "source": [
    "## Touching phone detection"
   ]
  },
  {
   "cell_type": "code",
   "execution_count": 3,
   "metadata": {},
   "outputs": [],
   "source": [
    "def isTouchingPhone(pandas,person)->bool:\n",
    "    #pandasDataFrame is the output of model(pandas.DataFrame)\n",
    "    #return true if the person is touching the phone\n",
    "    #return false if the person is not touching the phone\n",
    "    #return None if the person is not in the frame\n",
    "    # Check if the person is on bed\n",
    "    phone = []\n",
    "    if not(63 in pandas['class'].array):\n",
    "        return False\n",
    "    else:\n",
    "        phone.append(pandas[pandas['class'] == 63])\n",
    "    if not(67 in pandas['class'].array):\n",
    "        return False\n",
    "    else:\n",
    "        phone.append(pandas[pandas['class'] == 67])\n",
    "    person = pandas[pandas['class'] == 0]\n",
    "    # see if the person touches the phone\n",
    "    overlapArea = 0\n",
    "    for x in person:\n",
    "        for y in phone:\n",
    "            for z in range(len(y)):\n",
    "                x_overlap = Math.max(0, Math.min(y['xmax'].array[z], person['xmax'].array[x]) - Math.max(y['xmin'].array[z], person['xmin'].array[x]));\n",
    "                y_overlap = Math.max(0, Math.min(y['ymax'].array[z], person['ymax'].array[x]) - Math.max(y['ymin'].array[z], person['ymin'].array[x]));\n",
    "                overlapArea = Math.Max(overlapArea,x_overlap * y_overlap);\n",
    "                areaphone = (y['xmax'].array[z] - y['xmin'].array[z])*(y['ymax'].array[z] - y['ymin'].array[z])\n",
    "                if overlapArea/areaphone > 0.5:\n",
    "                    return True\n",
    "    return False"
   ]
  },
  {
   "attachments": {},
   "cell_type": "markdown",
   "metadata": {},
   "source": [
    "## Bed Temperature"
   ]
  },
  {
   "cell_type": "code",
   "execution_count": null,
   "metadata": {},
   "outputs": [],
   "source": [
    "def bedtemperature(pandas,thermal,person):\n",
    "    ## calculate the temperature of the bed by calculate the average temperature of the bed exclude the person\n",
    "    ## return the temperature of the bed\n",
    "    temp = 0\n",
    "    count = 0\n",
    "    for x in range(len(thermal[0])):\n",
    "        for y in range(len(thermal)):\n",
    "            if ( pandas[pandas['class'] == 59]['xmax'] <= x and np.all(x > pandas[pandas['class'] == 0]['xmax'].array[person] )     \\\n",
    "            or   pandas[pandas['class'] == 0]['xmin'] >= x and np.all(x < pandas[pandas['class'] == 0]['xmin'].array[person]  )  )  \\\n",
    "            and                                                                                                                     \\\n",
    "               ( pandas[pandas['class'] == 59]['ymax'] <= x and np.all(x > pandas[pandas['class'] == 0]['ymax'].array[person] )     \\\n",
    "            or   pandas[pandas['class'] == 0]['ymin'] >= x and np.all(x < pandas[pandas['class'] == 0]['ymin'].array[person]  )  ):\n",
    "                count+=1\n",
    "                temp = temp + (thermal[x][y] - temp)/count\n",
    "    return temp "
   ]
  },
  {
   "attachments": {},
   "cell_type": "markdown",
   "metadata": {},
   "source": [
    "## Body Temperature"
   ]
  },
  {
   "cell_type": "code",
   "execution_count": null,
   "metadata": {},
   "outputs": [],
   "source": [
    "def bodytemperture(pandas,thermal,k:int):\n",
    "    ## calculate the temperature of the person by calculate the average temperature of the person\n",
    "    ## return the temperature of the person\n",
    "    ## reduce the insignificant temperature(extermely low or high,ie >40, <20)\n",
    "    temp = 0\n",
    "    count = 0\n",
    "    for x in range(len(thermal[0])):\n",
    "        for y in range(len(thermal)):\n",
    "            ## check if the point is in the person\n",
    "            if ( pandas[pandas['class'] == 0]['xmax'].array[k] <= x and np.all(x >= pandas[pandas['class'] == 0]['xmin'].array[k] ) \\\n",
    "            and                                                                                                                     \\\n",
    "                pandas[pandas['class'] == 0]['ymax'].array[k] <= x and np.all(x >= pandas[pandas['class'] == 0]['ymin'].array[k] ) )\\\n",
    "            and thermal[x][y] < 40 and thermal[x][y] > 20:\n",
    "                 count+=1\n",
    "                 temp = temp + (thermal[x][y] - temp)/count\n",
    "    return temp"
   ]
  },
  {
   "attachments": {},
   "cell_type": "markdown",
   "metadata": {},
   "source": [
    "## Detection Main"
   ]
  },
  {
   "cell_type": "code",
   "execution_count": null,
   "metadata": {},
   "outputs": [],
   "source": [
    "def detections(pandas,thermal,timenow):\n",
    "    noperson = len(pandas[pandas['class'] == 0])\n",
    "    if(isPersonAvailable(pandas)):\n",
    "            pass # can add time automation\n",
    "\n",
    "    ## lying on bed\n",
    "    re = False\n",
    "    person = []\n",
    "    for k in range(noperson):\n",
    "        if(isLyinOnBed(pandas,k)):\n",
    "            re = True\n",
    "            person.append(k)\n",
    "    if re:\n",
    "        chancelying = 0\n",
    "        if not lyingonbed:\n",
    "            lyingonbed = True\n",
    "            startlyingtime = timenow\n",
    "    else:\n",
    "        if lyingonbed:\n",
    "            chancelying += 1\n",
    "            if chancelying > 3:\n",
    "                notlyingtimestart = timenow\n",
    "                lyingonbed = False\n",
    "                print(\"Lying on bed for\",timenow-startlyingtime,\"seconds\")\n",
    "                startlyingtime = 0\n",
    "    \n",
    "    ## touching phone\n",
    "    if isTouchingPhone(pandas,person):\n",
    "        chanceTouching = 0\n",
    "        if not Touchingphone:\n",
    "            Touchingphone = True\n",
    "            starttouchingtime = timenow\n",
    "    else:\n",
    "        if Touchingphone:\n",
    "            chanceTouching += 1\n",
    "            if chanceTouching > 3:\n",
    "                nottouchingtimestart = timenow\n",
    "                Touchingphone = False\n",
    "                print(\"Touching phone for\",timenow-starttouchingtime,\"seconds\")\n",
    "                starttouchingtime = 0\n",
    "\n",
    "    ### sleeping or in sleep mood\n",
    "    # if lyingfor bed for 10 seconds and not touching phone for 10 seconds, then sleep     \n",
    "    if lyingonbed and not Touchingphone:\n",
    "        if not sleeping:\n",
    "            startsleepingtime = timenow\n",
    "            sleeping = True\n",
    "    else:\n",
    "        if sleeping:\n",
    "            print(\"Sleeping for\",timenow-startsleepingtime,\"seconds\")\n",
    "            startsleepingtime = 0\n",
    "            sleeping = False\n",
    "    ## calculate the temperature of the bed\n",
    "    tempBed = bedtemperature(pandas,thermal,person)\n",
    "    if lyingonbed:\n",
    "        temmpbody = bodytemperture(pandas,thermal,person)\n",
    "            "
   ]
  },
  {
   "attachments": {},
   "cell_type": "markdown",
   "metadata": {},
   "source": [
    "# Actions"
   ]
  },
  {
   "attachments": {},
   "cell_type": "markdown",
   "metadata": {},
   "source": [
    "> All action are customizable, are highly extensible"
   ]
  },
  {
   "cell_type": "code",
   "execution_count": null,
   "metadata": {},
   "outputs": [],
   "source": [
    "#dummy variable for example\n",
    "playingmusic = False \n",
    "lights = False \n",
    "aircon = False\n",
    "aircontemp = 25"
   ]
  },
  {
   "attachments": {},
   "cell_type": "markdown",
   "metadata": {},
   "source": [
    "## When lying on bed"
   ]
  },
  {
   "cell_type": "code",
   "execution_count": null,
   "metadata": {},
   "outputs": [],
   "source": [
    "def OnLyingBed(lying:bool,startlyingtime:float,stoplyingtime:float):\n",
    "    # Here are some examples\n",
    "    ## if the person is lying on the bed for more than 5 seconds, play music\n",
    "    if startlyingtime-time.time() >5 and not playingmusic:\n",
    "        #play music\n",
    "        playmusic = True\n",
    "    elif stoplyingtime-time.time() >5 and playingmusic:\n",
    "        #stop music\n",
    "        playmusic = False\n",
    "    ## air con control\n",
    "    "
   ]
  },
  {
   "attachments": {},
   "cell_type": "markdown",
   "metadata": {},
   "source": [
    "## When using(touching) phone"
   ]
  },
  {
   "cell_type": "code",
   "execution_count": null,
   "metadata": {},
   "outputs": [],
   "source": [
    "def OnTouchingPhone(touching:bool,starttouchingtime:float,stoptouchingtime:float):\n",
    "    # Here are some examples\n",
    "    ## if the person is touching the phone for more than 15 seconds, turn on the lights\n",
    "    if starttouchingtime-time.time() >15 and not lights:\n",
    "        #turn on lights\n",
    "        lights = True"
   ]
  },
  {
   "attachments": {},
   "cell_type": "markdown",
   "metadata": {},
   "source": [
    "## When sleeping(on sleep mood)"
   ]
  },
  {
   "cell_type": "code",
   "execution_count": null,
   "metadata": {},
   "outputs": [],
   "source": [
    "def OnSleeping(sleeping:bool,startsleepingtime:float,stopsleepingtime:float):\n",
    "    # Here are some examples\n",
    "    ## if the person is in sleep mood for 5 seconds, turn off the lights\n",
    "    if startsleepingtime-time.time() >5 and lights:\n",
    "        #turn off lights\n",
    "        lights = False\n",
    "        playmusic = False\n",
    "    ## air con control"
   ]
  },
  {
   "attachments": {},
   "cell_type": "markdown",
   "metadata": {},
   "source": [
    "## Add more if you like"
   ]
  },
  {
   "cell_type": "code",
   "execution_count": null,
   "metadata": {},
   "outputs": [],
   "source": [
    "## Action main\n",
    "def actions():\n",
    "    t1 = threading.Thread(target=OnLyingBed,args=(lyingonbed,startlyingtime,notlyingtimestart))\n",
    "    t2 = threading.Thread(target=OnTouchingPhone,args=(Touchingphone,starttouchingtime,nottouchingtimestart))\n",
    "    t3 = threading.Thread(target=OnSleeping,args=(sleeping,startsleepingtime,notsleepingtimestart))\n",
    "    ## Add more if you like\n",
    "    t1.start()\n",
    "    t2.start()\n",
    "    t3.start()\n",
    "    "
   ]
  },
  {
   "attachments": {},
   "cell_type": "markdown",
   "metadata": {},
   "source": [
    "# Main"
   ]
  },
  {
   "cell_type": "code",
   "execution_count": null,
   "metadata": {},
   "outputs": [],
   "source": [
    "while True:\n",
    "    #get data\n",
    "    if live_connection.new_frame_avaliable:\n",
    "        (frame,thermaldata)= live_connection.getcurrentframe()\n",
    "        \n",
    "        ## get into threading\n",
    "        t2 = threading.Thread(target=worker,args=(frame,thermaldata,thermaldata))\n",
    "        t2.start()\n",
    "\n",
    "\n",
    "\n",
    "    def worker(frame,thermaldata):\n",
    "        ## convert bytes to image\n",
    "        timenow = time.time()\n",
    "        image = Image.open(BytesIO(frame))\n",
    "        \n",
    "        ## make prediction\n",
    "        results = model(image)\n",
    "        results.show()\n",
    "        \n",
    "        ## get the result\n",
    "        pandas = results.pandas().xyxy[0]\n",
    "        # DETECTIONS\n",
    "        detections(pandas,timenow)\n",
    "        # ACTIONS\n",
    "        \n",
    "        "
   ]
  }
 ],
 "metadata": {
  "kernelspec": {
   "display_name": "myenv",
   "language": "python",
   "name": "python3"
  },
  "language_info": {
   "codemirror_mode": {
    "name": "ipython",
    "version": 3
   },
   "file_extension": ".py",
   "mimetype": "text/x-python",
   "name": "python",
   "nbconvert_exporter": "python",
   "pygments_lexer": "ipython3",
   "version": "3.10.9"
  },
  "orig_nbformat": 4,
  "vscode": {
   "interpreter": {
    "hash": "3f866095237afaa04539ae9c6bc2a47878a346d67d7c72affe71a42b81528334"
   }
  }
 },
 "nbformat": 4,
 "nbformat_minor": 2
}

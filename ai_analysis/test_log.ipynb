{
 "cells": [
  {
   "cell_type": "code",
   "execution_count": 1,
   "metadata": {},
   "outputs": [],
   "source": [
    "from loguru import logger\n",
    "from io import StringIO\n",
    "from collections import deque"
   ]
  },
  {
   "cell_type": "code",
   "execution_count": 2,
   "metadata": {},
   "outputs": [],
   "source": [
    "stream = StringIO()\n",
    "logger.add(\"file_{time}.log\", format=\"{time:YYYY-MM-DD at HH:mm:ss} | {level} | {message}\", rotation=\"50MB\")\n",
    "logger.add(stream)\n",
    "l = deque(maxlen=10)\n",
    "x = 0"
   ]
  },
  {
   "cell_type": "code",
   "execution_count": 36,
   "metadata": {},
   "outputs": [
    {
     "name": "stderr",
     "output_type": "stream",
     "text": [
      "2023-02-09 00:08:23.925 | INFO     | __main__:<module>:2 - test 1\n"
     ]
    }
   ],
   "source": [
    "a= 1\n",
    "logger.info(\"test {x}\".format(x=a))\n"
   ]
  },
  {
   "cell_type": "code",
   "execution_count": 37,
   "metadata": {},
   "outputs": [],
   "source": [
    "stream.seek(x)\n",
    "for lines in stream.readlines():\n",
    "    l.append(lines)\n",
    "x = stream.tell()"
   ]
  },
  {
   "cell_type": "code",
   "execution_count": 42,
   "metadata": {},
   "outputs": [
    {
     "name": "stdout",
     "output_type": "stream",
     "text": [
      "2023-02-09 00:08:14.291 | INFO     | __main__:<module>:2 - test 1\n",
      "2023-02-09 00:08:14.463 | INFO     | __main__:<module>:2 - test 1\n",
      "2023-02-09 00:08:14.622 | INFO     | __main__:<module>:2 - test 1\n",
      "2023-02-09 00:08:14.796 | INFO     | __main__:<module>:2 - test 1\n",
      "2023-02-09 00:08:14.972 | INFO     | __main__:<module>:2 - test 1\n",
      "2023-02-09 00:08:15.143 | INFO     | __main__:<module>:2 - test 1\n",
      "2023-02-09 00:08:15.315 | INFO     | __main__:<module>:2 - test 1\n",
      "2023-02-09 00:08:15.474 | INFO     | __main__:<module>:2 - test 1\n",
      "2023-02-09 00:08:15.647 | INFO     | __main__:<module>:2 - test 1\n",
      "2023-02-09 00:08:23.925 | INFO     | __main__:<module>:2 - test 1\n",
      "\n"
     ]
    }
   ],
   "source": [
    "print(''.join(l))"
   ]
  },
  {
   "cell_type": "code",
   "execution_count": 45,
   "metadata": {},
   "outputs": [
    {
     "name": "stdout",
     "output_type": "stream",
     "text": [
      "2023-02-08 23:58:51.477 | INFO     | __main__:<module>:2 - test 1\n",
      "2023-02-08 23:58:51.666 | INFO     | __main__:<module>:2 - test 1\n",
      "2023-02-08 23:58:51.957 | INFO     | __main__:<module>:2 - test 1\n",
      "2023-02-08 23:58:52.101 | INFO     | __main__:<module>:2 - test 1\n",
      "2023-02-08 23:58:52.271 | INFO     | __main__:<module>:2 - test 1\n",
      "2023-02-08 23:58:52.566 | INFO     | __main__:<module>:2 - test 1\n",
      "2023-02-08 23:58:52.874 | INFO     | __main__:<module>:2 - test 1\n",
      "2023-02-08 23:58:53.024 | INFO     | __main__:<module>:2 - test 1\n",
      "2023-02-08 23:58:53.176 | INFO     | __main__:<module>:2 - test 1\n",
      "2023-02-08 23:58:53.363 | INFO     | __main__:<module>:2 - test 1\n",
      "2023-02-08 23:58:53.674 | INFO     | __main__:<module>:2 - test 1\n",
      "2023-02-08 23:58:53.844 | INFO     | __main__:<module>:2 - test 1\n",
      "2023-02-08 23:58:54.183 | INFO     | __main__:<module>:2 - test 1\n",
      "2023-02-08 23:58:54.390 | INFO     | __main__:<module>:2 - test 1\n",
      "2023-02-08 23:58:54.727 | INFO     | __main__:<module>:2 - test 1\n",
      "2023-02-08 23:58:54.902 | INFO     | __main__:<module>:2 - test 1\n",
      "2023-02-08 23:58:55.067 | INFO     | __main__:<module>:2 - test 1\n",
      "2023-02-08 23:58:55.243 | INFO     | __main__:<module>:2 - test 1\n",
      "2023-02-08 23:58:55.414 | INFO     | __main__:<module>:2 - test 1\n",
      "2023-02-08 23:58:55.580 | INFO     | __main__:<module>:2 - test 1\n",
      "2023-02-08 23:58:55.747 | INFO     | __main__:<module>:2 - test 1\n",
      "2023-02-08 23:58:55.909 | INFO     | __main__:<module>:2 - test 1\n",
      "2023-02-08 23:58:56.094 | INFO     | __main__:<module>:2 - test 1\n",
      "2023-02-08 23:58:56.298 | INFO     | __main__:<module>:2 - test 1\n",
      "2023-02-08 23:58:56.647 | INFO     | __main__:<module>:2 - test 1\n",
      "2023-02-08 23:58:56.792 | INFO     | __main__:<module>:2 - test 1\n",
      "2023-02-08 23:58:57.011 | INFO     | __main__:<module>:2 - test 1\n",
      "2023-02-08 23:58:57.198 | INFO     | __main__:<module>:2 - test 1\n",
      "2023-02-09 00:01:46.411 | INFO     | __main__:<module>:2 - test 1\n",
      "2023-02-09 00:01:46.834 | INFO     | __main__:<module>:2 - test 1\n",
      "2023-02-09 00:01:47.252 | INFO     | __main__:<module>:2 - test 1\n",
      "2023-02-09 00:02:04.420 | INFO     | __main__:<module>:2 - test 1\n",
      "2023-02-09 00:02:04.900 | INFO     | __main__:<module>:2 - test 1\n",
      "2023-02-09 00:02:05.614 | INFO     | __main__:<module>:2 - test 1\n",
      "2023-02-09 00:02:06.215 | INFO     | __main__:<module>:2 - test 1\n",
      "\n"
     ]
    }
   ],
   "source": [
    "print(stream.getvalue())"
   ]
  }
 ],
 "metadata": {
  "kernelspec": {
   "display_name": "myenv",
   "language": "python",
   "name": "python3"
  },
  "language_info": {
   "codemirror_mode": {
    "name": "ipython",
    "version": 3
   },
   "file_extension": ".py",
   "mimetype": "text/x-python",
   "name": "python",
   "nbconvert_exporter": "python",
   "pygments_lexer": "ipython3",
   "version": "3.10.9"
  },
  "orig_nbformat": 4,
  "vscode": {
   "interpreter": {
    "hash": "3f866095237afaa04539ae9c6bc2a47878a346d67d7c72affe71a42b81528334"
   }
  }
 },
 "nbformat": 4,
 "nbformat_minor": 2
}
